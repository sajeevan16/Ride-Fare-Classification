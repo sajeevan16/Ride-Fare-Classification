{
  "cells": [
    {
      "cell_type": "code",
      "metadata": {
        "colab_type": "code",
        "id": "n5fbqivHqVyD",
        "colab": {}
      },
      "source": [
        "from pathlib import Path\n",
        "\n",
        "import numpy as np\n",
        "import pandas as pd\n",
        "\n",
        "import datetime as dt\n",
        "from sklearn.model_selection import train_test_split,cross_val_predict,RandomizedSearchCV, GridSearchCV,cross_val_score,cross_validate\n",
        "from sklearn.metrics import confusion_matrix,f1_score,accuracy_score,roc_auc_score\n",
        "\n",
        "\n",
        "import os\n",
        "from imblearn.over_sampling import SMOTE\n",
        "import geopy.distance\n",
        "\n",
        "# !pip install pygeohash\n",
        "# import pygeohash as gh\n",
        "from xgboost import XGBClassifier\n",
        "import lightgbm as lgb \n",
        "\n",
        "import matplotlib.pyplot as plt\n",
        "import seaborn as sns\n",
        "# % matplotlib inline\n",
        "plt.style.use('seaborn-whitegrid')\n",
        "pd.set_option(\"display.max_columns\", 100)\n",
        "\n",
        "target, IDcol='label_correct', 'tripid'"
      ],
      "execution_count": null,
      "outputs": []
    },
    {
      "cell_type": "code",
      "metadata": {
        "id": "mJIwfNCdMGab",
        "colab_type": "code",
        "colab": {
          "base_uri": "https://localhost:8080/",
          "height": 34
        },
        "outputId": "1e0a9eb2-80cc-4f4d-cd55-decf548089c2"
      },
      "source": [
        "from google.colab import drive\n",
        "drive.mount('drive')"
      ],
      "execution_count": null,
      "outputs": [
        {
          "output_type": "stream",
          "text": [
            "Drive already mounted at drive; to attempt to forcibly remount, call drive.mount(\"drive\", force_remount=True).\n"
          ],
          "name": "stdout"
        }
      ]
    },
    {
      "cell_type": "code",
      "metadata": {
        "colab_type": "code",
        "id": "224LE5iLrCPD",
        "colab": {}
      },
      "source": [
        "train_df = pd.read_csv(\n",
        "    \"/content/drive/My Drive/Colab Notebooks/Data/train_gd.csv\",\n",
        "    index_col='tripid'\n",
        ")\n",
        "df_test = pd.read_csv(\n",
        "    \"/content/drive/My Drive/Colab Notebooks/Data/test_gd.csv\",\n",
        "    index_col='tripid'\n",
        ")\n"
      ],
      "execution_count": null,
      "outputs": []
    },
    {
      "cell_type": "code",
      "metadata": {
        "colab_type": "code",
        "id": "82Rxd8_nrn5u",
        "colab": {}
      },
      "source": [
        "\n",
        "\n",
        "# train_df['diffdis'] = np.where(train_df['pd'] == train_df['dd'], 0, 1)\n",
        "# df_test['diffdis'] = np.where(df_test['pd'] == df_test['dd'], 0, 1)\n",
        "\n",
        "# train_df = train_df.drop(columns=['dd'])\n",
        "#features_df = pd.get_dummies(features_df, columns=['age_group'])\n",
        "\n",
        "\n",
        "\n",
        "# def sqdistance(datasetrow):\n",
        "#     dis = geopy.distance.distance((float(datasetrow['pick_lat']),float(datasetrow['pick_lon'])), (float(datasetrow['drop_lat']),float(datasetrow['drop_lon']))).km\n",
        "#     return dis*1000\n",
        "\n",
        "\n",
        "# train_df['ddistance'] = train_df.apply(sqdistance, axis=1)\n",
        "# df_test['ddistance'] = df_test.apply(sqdistance, axis=1)\n",
        "\n",
        "# train_df"
      ],
      "execution_count": null,
      "outputs": []
    },
    {
      "cell_type": "code",
      "metadata": {
        "id": "3jshDburKg-H",
        "colab_type": "code",
        "colab": {}
      },
      "source": [
        "train_df = train_df.drop(columns=['dd','pd'])\n",
        "df_test = df_test.drop(columns=['dd','pd'])\n",
        "\n",
        "# train_df = train_df.drop(columns=['geo_duration'])\n",
        "# df_test = df_test.drop(columns=['geo_duration'])"
      ],
      "execution_count": null,
      "outputs": []
    },
    {
      "cell_type": "code",
      "metadata": {
        "id": "qosqrKfBKg_c",
        "colab_type": "code",
        "colab": {}
      },
      "source": [
        "def velocity(datasetrow):\n",
        "    if ((datasetrow['duration']-datasetrow['meter_waiting']) !=0):\n",
        "        velocity= datasetrow['geo_distance']/(datasetrow['duration']-datasetrow['meter_waiting'])\n",
        "        if(datasetrow['geo_distance']==0): velocity= 7\n",
        "    else:\n",
        "        velocity= datasetrow['geo_distance']/0.3\n",
        "    return velocity\n",
        "\n",
        "\n",
        "def farerate(datasetrow):\n",
        "    if (datasetrow['geo_distance']!=0):\n",
        "        farerate= (datasetrow['fare']-datasetrow['meter_waiting_fare']-datasetrow['additional_fare'])/ datasetrow['geo_distance']\n",
        "    else:\n",
        "        farerate= (datasetrow['fare']-datasetrow['meter_waiting_fare']-datasetrow['additional_fare'])/0.1\n",
        "        # print(farerate, datasetrow['label'])\n",
        "    return farerate*1000\n",
        "\n",
        "def farerate_val(datasetrow):\n",
        "    if ((datasetrow['geo_distance']-min(1000,datasetrow['geo_distance']))!=0):\n",
        "        farerate= (datasetrow['fare']-datasetrow['meter_waiting_fare']-datasetrow['additional_fare']-min((datasetrow['fare']-datasetrow['meter_waiting_fare']-datasetrow['additional_fare']),50))/ (datasetrow['geo_distance']-min(1000,datasetrow['geo_distance']))\n",
        "        # print(farerate, datasetrow['label'])\n",
        "    else:\n",
        "        farerate= (datasetrow['fare']-datasetrow['meter_waiting_fare']-datasetrow['additional_fare']-min((datasetrow['fare']-datasetrow['meter_waiting_fare']-datasetrow['additional_fare']),50))/0.1\n",
        "        # print(farerate, datasetrow['label'])\n",
        "    return farerate*1000\n",
        "\n",
        "def tfarerate(datasetrow):\n",
        "      tfarerate= (datasetrow['fare']-datasetrow['meter_waiting_fare']-datasetrow['additional_fare']-min((datasetrow['fare']-datasetrow['meter_waiting_fare']-datasetrow['additional_fare']),50))\n",
        "      return tfarerate\n",
        "\n",
        "def tfaredis(datasetrow):\n",
        "      tfaredis= (datasetrow['geo_distance']-min(1000,datasetrow['geo_distance']))\n",
        "      return tfaredis\n",
        "\n",
        "\n",
        "\n"
      ],
      "execution_count": null,
      "outputs": []
    },
    {
      "cell_type": "code",
      "metadata": {
        "id": "2BwnS2pWKg_9",
        "colab_type": "code",
        "colab": {}
      },
      "source": [
        "train_df['velocity'] = train_df.apply(velocity, axis=1)\n",
        "df_test['velocity'] = df_test.apply(velocity, axis=1)\n"
      ],
      "execution_count": null,
      "outputs": []
    },
    {
      "cell_type": "code",
      "metadata": {
        "id": "muEnp67DKhAF",
        "colab_type": "code",
        "colab": {}
      },
      "source": [
        "train_df['farerate'] = train_df.apply(farerate, axis=1)\n",
        "df_test['farerate'] = df_test.apply(farerate, axis=1)\n",
        "\n",
        "\n",
        "# train_df['tfarerate'] = train_df.apply(tfarerate, axis=1)\n",
        "# df_test['tfarerate'] = df_test.apply(tfarerate, axis=1)\n",
        "\n",
        "# train_df['tfaredis'] = train_df.apply(tfaredis, axis=1)\n",
        "# df_test['tfaredis'] = df_test.apply(tfaredis, axis=1)\n",
        "\n",
        "# train_df[train_df['label']=='incorrect']"
      ],
      "execution_count": null,
      "outputs": []
    },
    {
      "cell_type": "code",
      "metadata": {
        "id": "oOUJfHqtjJNB",
        "colab_type": "code",
        "colab": {}
      },
      "source": [
        ""
      ],
      "execution_count": null,
      "outputs": []
    },
    {
      "cell_type": "code",
      "metadata": {
        "id": "meQVRA17KhAb",
        "colab_type": "code",
        "colab": {}
      },
      "source": [
        "train_df['travel_duration'] = train_df['duration']-train_df['meter_waiting']\n",
        "# train_df['travel_fare'] = train_df['fare']-train_df['meter_waiting_fare']-train_df['additional_fare']\n",
        "# train_df['spend_duration'] = train_df['duration']+train_df['meter_waiting_till_pickup']\n",
        "\n",
        "df_test['travel_duration'] = df_test['duration']-df_test['meter_waiting']\n",
        "# df_test['travel_fare'] = df_test['fare']-df_test['meter_waiting_fare']-df_test['additional_fare']\n",
        "# df_test['spend_duration'] = df_test['duration']+df_test['meter_waiting_till_pickup']\n"
      ],
      "execution_count": null,
      "outputs": []
    },
    {
      "cell_type": "code",
      "metadata": {
        "id": "6hzklHSR_sov",
        "colab_type": "code",
        "colab": {}
      },
      "source": [
        "# def meterrate(datasetrow):\n",
        "#     if (datasetrow['meter_waiting']!=0):\n",
        "#         mrate= datasetrow['meter_waiting_fare']/datasetrow['meter_waiting']\n",
        "#     else:\n",
        "#         mrate= 0.001\n",
        "#     return mrate*1000\n",
        "\n",
        "# train_df['mrate'] = train_df.apply(meterrate, axis=1)\n",
        "# df_test['mrate'] = df_test.apply(meterrate, axis=1)\n",
        "\n",
        "# # df_test['mrate'] = df_test['meter_waiting_fare']/df_test['meter_waiting']"
      ],
      "execution_count": null,
      "outputs": []
    },
    {
      "cell_type": "code",
      "metadata": {
        "colab_type": "code",
        "id": "lbEQqq2WcHNc",
        "colab": {}
      },
      "source": [
        "def add_datetime_info(dataset):\n",
        "    #Convert to datetime format\n",
        "    dataset['pickup_time'] = pd.to_datetime(dataset['pickup_time'],format=\"%m/%d/%Y %H:%M\")\n",
        "    dataset['drop_time'] = pd.to_datetime(dataset['drop_time'],format=\"%m/%d/%Y %H:%M\")\n",
        "#     dataset['pickup_time_hours'] = dataset.pickup_time.dt.hour*60 + dataset.pickup_time.dt.minute\n",
        "    dataset['pickup_time_hour'] = dataset.pickup_time.dt.hour\n",
        "    #dataset['pickup_time_day'] = dataset.pickup_time.dt.day\n",
        "    #dataset['pickup_time_month'] = dataset.pickup_time.dt.month\n",
        "    dataset['pickup_time_weekday'] = dataset.pickup_time.dt.weekday\n",
        "    #dataset['pickup_time_year'] = dataset.pickup_time.dt.year\n",
        "    #dataset = pd.get_dummies(dataset, columns=['pickup_time_year'])\n",
        "    #dataset = pd.get_dummies(dataset, columns=['pickup_time_day'])\n",
        "    #dataset = pd.get_dummies(dataset, columns=['pickup_time_month'])\n",
        "    dataset = pd.get_dummies(dataset, columns=['pickup_time_weekday'])\n",
        "    dataset = pd.get_dummies(dataset, columns=['pickup_time_hour'])\n",
        "    return dataset\n",
        "\n",
        "\n",
        "# train_df= pd.get_dummies(train_df, columns=['pd'])\n",
        "# train_df= pd.get_dummies(train_df, columns=['dd'])\n",
        "# df_test= pd.get_dummies(df_test, columns=['pd'])\n",
        "# df_test= pd.get_dummies(df_test, columns=['dd'])\n",
        "\n",
        "\n",
        "# train_df = add_datetime_info(train_df)\n",
        "# df_test = add_datetime_info(df_test)"
      ],
      "execution_count": null,
      "outputs": []
    },
    {
      "cell_type": "code",
      "metadata": {
        "id": "bxxjEVVANkbi",
        "colab_type": "code",
        "colab": {}
      },
      "source": [
        "# maxlat = max(list(train_df['pick_lat'])+list(train_df['drop_lat'])+list(df_test['pick_lat'])+list(df_test['drop_lat']))\n",
        "# minlat = min(list(train_df['pick_lat'])+list(train_df['drop_lat'])+list(df_test['pick_lat'])+list(df_test['drop_lat']))\n",
        "# maxlon = max(list(train_df['pick_lon'])+list(train_df['drop_lon'])+list(df_test['pick_lon'])+list(df_test['drop_lon']))\n",
        "# minlon = min(list(train_df['pick_lon'])+list(train_df['drop_lon'])+list(df_test['pick_lon'])+list(df_test['drop_lon']))\n",
        "# print(maxlat,minlat,maxlon,minlon)\n",
        "\n",
        "\n",
        "# train_df['pick_lat'] = (train_df['pick_lat'] - minlat)/(maxlat-minlat)\n",
        "# train_df['drop_lat'] = (train_df['drop_lat'] - minlat)/(maxlat-minlat)\n",
        "# train_df['pick_lon'] = (train_df['pick_lon'] - minlon)/(maxlon-minlon)\n",
        "# train_df['drop_lon'] = (train_df['drop_lon'] - minlon)/(maxlon-minlon)\n",
        "\n",
        "# df_test['pick_lat'] = (df_test['pick_lat'] - minlat)/(maxlat-minlat)\n",
        "# df_test['drop_lat'] = (df_test['drop_lat'] - minlat)/(maxlat-minlat)\n",
        "# df_test['pick_lon'] = (df_test['pick_lon'] - minlon)/(maxlon-minlon)\n",
        "# df_test['drop_lon'] = (df_test['drop_lon'] - minlon)/(maxlon-minlon)\n",
        "\n",
        "# train_df"
      ],
      "execution_count": null,
      "outputs": []
    },
    {
      "cell_type": "code",
      "metadata": {
        "id": "3jtl_5lnKhB_",
        "colab_type": "code",
        "colab": {
          "base_uri": "https://localhost:8080/",
          "height": 34
        },
        "outputId": "13b43525-1d5a-4ce1-e25c-61c8c896ee86"
      },
      "source": [
        "train_df.drop(['pickup_time','drop_time'], axis=1,inplace=True)#, \n",
        "df_test.drop(['pickup_time','drop_time'], axis=1,inplace=True)#, \n",
        "\n",
        "train_df.drop(['pickup_time_','pickup_timestamp'], axis=1,inplace=True)#, \n",
        "df_test.drop(['pickup_time_','pickup_timestamp'], axis=1,inplace=True)\n",
        "\n",
        "train_df.drop(['pick_lat','pick_lon','drop_lat','drop_lon'], axis=1,inplace=True)#, \n",
        "df_test.drop(['pick_lat','pick_lon','drop_lat','drop_lon'], axis=1,inplace=True)\n",
        "\n",
        "train_df.drop(['meter_waiting_till_pickup'], axis=1,inplace=True)#, \n",
        "df_test.drop(['meter_waiting_till_pickup'], axis=1,inplace=True)\n",
        "\n",
        "# train_df.drop(['geo_traffic'], axis=1,inplace=True)#, \n",
        "# df_test.drop(['geo_traffic'], axis=1,inplace=True)\n",
        "\n",
        "train_df.drop(['additional_fare'], axis=1,inplace=True)#, \n",
        "df_test.drop(['additional_fare'], axis=1,inplace=True)\n",
        "\n",
        "\n",
        "train_df.shape"
      ],
      "execution_count": null,
      "outputs": [
        {
          "output_type": "execute_result",
          "data": {
            "text/plain": [
              "(16967, 11)"
            ]
          },
          "metadata": {
            "tags": []
          },
          "execution_count": 406
        }
      ]
    },
    {
      "cell_type": "code",
      "metadata": {
        "id": "680qHWTSKhCS",
        "colab_type": "code",
        "colab": {}
      },
      "source": [
        "# train_df['du'] = train_df['drop_time'] - train_df['pickup_time']\n",
        "# # train_df[type(train_df['du'])== pd.Timedelta]\n",
        "# train_df['dut']= train_df.du.dt.total_seconds()\n",
        "# train_df.drop(['du'], axis=1,inplace=True)\n",
        "\n",
        "# df_test['du'] = df_test['drop_time'] - df_test['pickup_time']\n",
        "# # train_df[type(train_df['du'])== pd.Timedelta]\n",
        "# df_test['dut']= df_test.du.dt.total_seconds()\n",
        "# df_test.drop(['du'], axis=1,inplace=True)"
      ],
      "execution_count": null,
      "outputs": []
    },
    {
      "cell_type": "code",
      "metadata": {
        "id": "2qNSPyv1KhC5",
        "colab_type": "code",
        "colab": {}
      },
      "source": [
        "# train_df=train_df.replace(\n",
        "#     ['Matara','Galle','Ratnapura','Kalutara', 'Kegalle', 'NuwaraEliya','Badulla', 'Colombo', 'Gampaha','Kandy','Kurunegala','Matale', 'Polonnaruwa','Puttalam' ,'Anuradhapura'],\n",
        "#     [0,1,2,3,4,5,6,7,8,9,10,11,12,13,14])\n",
        "\n",
        "# df_test=df_test.replace(\n",
        "#     ['Matara','Galle','Ratnapura','Kalutara', 'Kegalle', 'NuwaraEliya','Badulla', 'Colombo', 'Gampaha','Kandy','Kurunegala','Matale', 'Polonnaruwa','Puttalam' ,'Anuradhapura'],\n",
        "#     [0,1,2,3,4,5,6,7,8,9,10,11,12,13,14])"
      ],
      "execution_count": null,
      "outputs": []
    },
    {
      "cell_type": "code",
      "metadata": {
        "colab_type": "code",
        "id": "oWW1DPwKwWpr",
        "colab": {
          "base_uri": "https://localhost:8080/",
          "height": 236
        },
        "outputId": "2d69b9fb-51a8-409c-d6ee-4cc61d3969b1"
      },
      "source": [
        "train_df[train_df.fare<150].fare.hist(bins=100, figsize=(14,3))\n",
        "plt.xlabel('fare $USD')\n",
        "plt.title('Histogram');\n"
      ],
      "execution_count": null,
      "outputs": [
        {
          "output_type": "display_data",
          "data": {
            "image/png": "[encoded data removed]",
            "text/plain": [
              "<Figure size 1008x216 with 1 Axes>"
            ]
          },
          "metadata": {
            "tags": []
          }
        }
      ]
    },
    {
      "cell_type": "code",
      "metadata": {
        "colab_type": "code",
        "id": "Te6JSqGwncB1",
        "colab": {}
      },
      "source": [
        "train_df = pd.get_dummies(train_df, columns=['label'])\n",
        "train_df = train_df.drop(['label_incorrect'],axis=1)\n"
      ],
      "execution_count": null,
      "outputs": []
    },
    {
      "cell_type": "code",
      "metadata": {
        "id": "4oy3e4xrKhFB",
        "colab_type": "code",
        "colab": {
          "base_uri": "https://localhost:8080/",
          "height": 50
        },
        "outputId": "a2a53061-c518-4ad3-8341-d65ed477e611"
      },
      "source": [
        "# Get missing columns in the training test\n",
        "missing_cols = set( train_df.columns ) - set( df_test.columns )\n",
        "print(missing_cols)\n",
        "# Add a missing column in test set with default value equal to 0\n",
        "for c in missing_cols:\n",
        "    df_test[c] = 0\n",
        "    \n",
        "missing_cols =  set( df_test.columns ) - set( train_df.columns )\n",
        "print(missing_cols)\n",
        "# Add a missing column in test set with default value equal to 0\n",
        "for c in missing_cols:\n",
        "    train_df[c] = 0\n",
        "# Ensure the order of column in the test set is in the same order than in train set\n",
        "df_test = df_test[train_df.columns]\n",
        "df_test = df_test.drop(columns=['label_correct'])"
      ],
      "execution_count": null,
      "outputs": [
        {
          "output_type": "stream",
          "text": [
            "{'label_correct'}\n",
            "set()\n"
          ],
          "name": "stdout"
        }
      ]
    },
    {
      "cell_type": "code",
      "metadata": {
        "id": "6vJQa3E_KhF3",
        "colab_type": "code",
        "colab": {
          "base_uri": "https://localhost:8080/",
          "height": 34
        },
        "outputId": "d24b919b-8657-4291-8180-e048254f61ae"
      },
      "source": [
        "len(train_df[train_df['label_correct']==0].index)/len(train_df[train_df['label_correct']==1].index)"
      ],
      "execution_count": null,
      "outputs": [
        {
          "output_type": "execute_result",
          "data": {
            "text/plain": [
              "0.09882779612719383"
            ]
          },
          "metadata": {
            "tags": []
          },
          "execution_count": 412
        }
      ]
    },
    {
      "cell_type": "code",
      "metadata": {
        "colab_type": "code",
        "id": "QNoS8yins7DG",
        "colab": {
          "base_uri": "https://localhost:8080/",
          "height": 50
        },
        "outputId": "a59e09cd-fde8-4231-da20-e4d4e37dc9bc"
      },
      "source": [
        "y = train_df['label_correct']\n",
        "train = train_df.drop(columns=['label_correct'])\n",
        "print(y.shape[0])\n",
        "print(train_df.shape[0])\n"
      ],
      "execution_count": null,
      "outputs": [
        {
          "output_type": "stream",
          "text": [
            "16967\n",
            "16967\n"
          ],
          "name": "stdout"
        }
      ]
    },
    {
      "cell_type": "code",
      "metadata": {
        "id": "e1gn3xGXKhG7",
        "colab_type": "code",
        "colab": {}
      },
      "source": [
        "x_train,x_test,y_train,y_test = train_test_split(train,y,random_state=2,test_size=0.2, stratify=y)"
      ],
      "execution_count": null,
      "outputs": []
    },
    {
      "cell_type": "markdown",
      "metadata": {
        "id": "-qiIsWOxOKWv",
        "colab_type": "text"
      },
      "source": [
        ""
      ]
    },
    {
      "cell_type": "markdown",
      "metadata": {
        "id": "9dya_MtSUw98",
        "colab_type": "text"
      },
      "source": [
        "# Traing Test"
      ]
    },
    {
      "cell_type": "code",
      "metadata": {
        "id": "am--VPLtKhHS",
        "colab_type": "code",
        "colab": {
          "base_uri": "https://localhost:8080/",
          "height": 50
        },
        "outputId": "8c80a2b0-cfeb-4a1d-b984-cdb14e369064"
      },
      "source": [
        "%%time\n",
        "model_train = XGBClassifier(\n",
        " learning_rate =0.01,\n",
        " n_estimators=1000,\n",
        " max_depth=6,\n",
        " min_child_weight=5,\n",
        " gamma=0,\n",
        " subsample=0.75,\n",
        " colsample_bytree=0.8,\n",
        " reg_alpha=0,\n",
        " objective= 'binary:logistic',\n",
        " nthread=4,\n",
        " scale_pos_weight=0.624,\n",
        " seed=27)\n",
        "\n",
        "# (\n",
        "#  learning_rate =0.01,\n",
        "#  n_estimators=1000,\n",
        "#  max_depth=9,\n",
        "#  min_child_weight=2,\n",
        "#  gamma=0,\n",
        "#  subsample=0.9,\n",
        "#  colsample_bytree=0.8,\n",
        "#  objective= 'binary:logistic',\n",
        "#  nthread=4,\n",
        "#  scale_pos_weight=1,\n",
        "#  seed=27)\n",
        "\n",
        "\n",
        "model_train.fit(x_train,y_train)"
      ],
      "execution_count": null,
      "outputs": [
        {
          "output_type": "stream",
          "text": [
            "CPU times: user 26.8 s, sys: 865 ms, total: 27.7 s\n",
            "Wall time: 15.2 s\n"
          ],
          "name": "stdout"
        }
      ]
    },
    {
      "cell_type": "code",
      "metadata": {
        "id": "wlaYnyiPQogi",
        "colab_type": "code",
        "colab": {
          "base_uri": "https://localhost:8080/",
          "height": 297
        },
        "outputId": "290e9ae9-d878-421a-aebb-450e6635b971"
      },
      "source": [
        "xpt = model_train.predict(x_test)\n",
        "f,ax = plt.subplots(figsize=(4, 4))\n",
        "sns.heatmap(confusion_matrix(y_test, xpt), annot=True, linewidths=.5, fmt= '.1f',ax=ax)\n",
        "\n",
        "print('Acuracy',accuracy_score(y_test, xpt))\n",
        "print('f1_score',f1_score(y_test, xpt, average='macro'))\n",
        "# 0.8480273985865041 1\n",
        "# 0.852374833080692 0.8\n",
        "# 0.8587720898670687 0.6\n",
        "# 0.8700215946672947 0.5\n",
        "# 0.865729457455048 0.4\n",
        "#  0.3"
      ],
      "execution_count": null,
      "outputs": [
        {
          "output_type": "stream",
          "text": [
            "Acuracy 0.9566882734236889\n",
            "f1_score 0.854339484487233\n"
          ],
          "name": "stdout"
        },
        {
          "output_type": "display_data",
          "data": {
            "image/png": "[encoded data removed]",
            "text/plain": [
              "<Figure size 288x288 with 2 Axes>"
            ]
          },
          "metadata": {
            "tags": []
          }
        }
      ]
    },
    {
      "cell_type": "code",
      "metadata": {
        "id": "rphsHxyNFLEj",
        "colab_type": "code",
        "colab": {
          "base_uri": "https://localhost:8080/",
          "height": 370
        },
        "outputId": "b38c5676-cc69-4526-e5e6-f37101f9b824"
      },
      "source": [
        "y_pred = cross_val_predict(model_train, train,y, cv=10)\n",
        "f,ax = plt.subplots(figsize=(4, 4))\n",
        "sns.heatmap(confusion_matrix(y, y_pred), annot=True, linewidths=.5, fmt= '.1f',ax=ax)\n",
        "\n",
        "print('Acuracy',accuracy_score(y, y_pred))\n",
        "print('f1_score',f1_score(y, y_pred, average='macro'))"
      ],
      "execution_count": null,
      "outputs": [
        {
          "output_type": "error",
          "ename": "KeyboardInterrupt",
          "evalue": "ignored",
          "traceback": [
            "\u001b[0;31m---------------------------------------------------------------------------\u001b[0m",
            "\u001b[0;31mKeyboardInterrupt\u001b[0m                         Traceback (most recent call last)",
            "\u001b[0;32m<ipython-input-417-464ebf813693>\u001b[0m in \u001b[0;36m<module>\u001b[0;34m()\u001b[0m\n\u001b[0;32m----> 1\u001b[0;31m \u001b[0my_pred\u001b[0m \u001b[0;34m=\u001b[0m \u001b[0mcross_val_predict\u001b[0m\u001b[0;34m(\u001b[0m\u001b[0mmodel_train\u001b[0m\u001b[0;34m,\u001b[0m \u001b[0mtrain\u001b[0m\u001b[0;34m,\u001b[0m\u001b[0my\u001b[0m\u001b[0;34m,\u001b[0m \u001b[0mcv\u001b[0m\u001b[0;34m=\u001b[0m\u001b[0;36m10\u001b[0m\u001b[0;34m)\u001b[0m\u001b[0;34m\u001b[0m\u001b[0;34m\u001b[0m\u001b[0m\n\u001b[0m\u001b[1;32m      2\u001b[0m \u001b[0mf\u001b[0m\u001b[0;34m,\u001b[0m\u001b[0max\u001b[0m \u001b[0;34m=\u001b[0m \u001b[0mplt\u001b[0m\u001b[0;34m.\u001b[0m\u001b[0msubplots\u001b[0m\u001b[0;34m(\u001b[0m\u001b[0mfigsize\u001b[0m\u001b[0;34m=\u001b[0m\u001b[0;34m(\u001b[0m\u001b[0;36m4\u001b[0m\u001b[0;34m,\u001b[0m \u001b[0;36m4\u001b[0m\u001b[0;34m)\u001b[0m\u001b[0;34m)\u001b[0m\u001b[0;34m\u001b[0m\u001b[0;34m\u001b[0m\u001b[0m\n\u001b[1;32m      3\u001b[0m \u001b[0msns\u001b[0m\u001b[0;34m.\u001b[0m\u001b[0mheatmap\u001b[0m\u001b[0;34m(\u001b[0m\u001b[0mconfusion_matrix\u001b[0m\u001b[0;34m(\u001b[0m\u001b[0my\u001b[0m\u001b[0;34m,\u001b[0m \u001b[0my_pred\u001b[0m\u001b[0;34m)\u001b[0m\u001b[0;34m,\u001b[0m \u001b[0mannot\u001b[0m\u001b[0;34m=\u001b[0m\u001b[0;32mTrue\u001b[0m\u001b[0;34m,\u001b[0m \u001b[0mlinewidths\u001b[0m\u001b[0;34m=\u001b[0m\u001b[0;36m.5\u001b[0m\u001b[0;34m,\u001b[0m \u001b[0mfmt\u001b[0m\u001b[0;34m=\u001b[0m \u001b[0;34m'.1f'\u001b[0m\u001b[0;34m,\u001b[0m\u001b[0max\u001b[0m\u001b[0;34m=\u001b[0m\u001b[0max\u001b[0m\u001b[0;34m)\u001b[0m\u001b[0;34m\u001b[0m\u001b[0;34m\u001b[0m\u001b[0m\n\u001b[1;32m      4\u001b[0m \u001b[0;34m\u001b[0m\u001b[0m\n\u001b[1;32m      5\u001b[0m \u001b[0mprint\u001b[0m\u001b[0;34m(\u001b[0m\u001b[0;34m'Acuracy'\u001b[0m\u001b[0;34m,\u001b[0m\u001b[0maccuracy_score\u001b[0m\u001b[0;34m(\u001b[0m\u001b[0my\u001b[0m\u001b[0;34m,\u001b[0m \u001b[0my_pred\u001b[0m\u001b[0;34m)\u001b[0m\u001b[0;34m)\u001b[0m\u001b[0;34m\u001b[0m\u001b[0;34m\u001b[0m\u001b[0m\n",
            "\u001b[0;32m/usr/local/lib/python3.6/dist-packages/sklearn/model_selection/_validation.py\u001b[0m in \u001b[0;36mcross_val_predict\u001b[0;34m(estimator, X, y, groups, cv, n_jobs, verbose, fit_params, pre_dispatch, method)\u001b[0m\n\u001b[1;32m    753\u001b[0m     prediction_blocks = parallel(delayed(_fit_and_predict)(\n\u001b[1;32m    754\u001b[0m         clone(estimator), X, y, train, test, verbose, fit_params, method)\n\u001b[0;32m--> 755\u001b[0;31m         for train, test in cv.split(X, y, groups))\n\u001b[0m\u001b[1;32m    756\u001b[0m \u001b[0;34m\u001b[0m\u001b[0m\n\u001b[1;32m    757\u001b[0m     \u001b[0;31m# Concatenate the predictions\u001b[0m\u001b[0;34m\u001b[0m\u001b[0;34m\u001b[0m\u001b[0;34m\u001b[0m\u001b[0m\n",
            "\u001b[0;32m/usr/local/lib/python3.6/dist-packages/joblib/parallel.py\u001b[0m in \u001b[0;36m__call__\u001b[0;34m(self, iterable)\u001b[0m\n\u001b[1;32m   1030\u001b[0m                 \u001b[0mself\u001b[0m\u001b[0;34m.\u001b[0m\u001b[0m_iterating\u001b[0m \u001b[0;34m=\u001b[0m \u001b[0mself\u001b[0m\u001b[0;34m.\u001b[0m\u001b[0m_original_iterator\u001b[0m \u001b[0;32mis\u001b[0m \u001b[0;32mnot\u001b[0m \u001b[0;32mNone\u001b[0m\u001b[0;34m\u001b[0m\u001b[0;34m\u001b[0m\u001b[0m\n\u001b[1;32m   1031\u001b[0m \u001b[0;34m\u001b[0m\u001b[0m\n\u001b[0;32m-> 1032\u001b[0;31m             \u001b[0;32mwhile\u001b[0m \u001b[0mself\u001b[0m\u001b[0;34m.\u001b[0m\u001b[0mdispatch_one_batch\u001b[0m\u001b[0;34m(\u001b[0m\u001b[0miterator\u001b[0m\u001b[0;34m)\u001b[0m\u001b[0;34m:\u001b[0m\u001b[0;34m\u001b[0m\u001b[0;34m\u001b[0m\u001b[0m\n\u001b[0m\u001b[1;32m   1033\u001b[0m                 \u001b[0;32mpass\u001b[0m\u001b[0;34m\u001b[0m\u001b[0;34m\u001b[0m\u001b[0m\n\u001b[1;32m   1034\u001b[0m \u001b[0;34m\u001b[0m\u001b[0m\n",
            "\u001b[0;32m/usr/local/lib/python3.6/dist-packages/joblib/parallel.py\u001b[0m in \u001b[0;36mdispatch_one_batch\u001b[0;34m(self, iterator)\u001b[0m\n\u001b[1;32m    845\u001b[0m                 \u001b[0;32mreturn\u001b[0m \u001b[0;32mFalse\u001b[0m\u001b[0;34m\u001b[0m\u001b[0;34m\u001b[0m\u001b[0m\n\u001b[1;32m    846\u001b[0m             \u001b[0;32melse\u001b[0m\u001b[0;34m:\u001b[0m\u001b[0;34m\u001b[0m\u001b[0;34m\u001b[0m\u001b[0m\n\u001b[0;32m--> 847\u001b[0;31m                 \u001b[0mself\u001b[0m\u001b[0;34m.\u001b[0m\u001b[0m_dispatch\u001b[0m\u001b[0;34m(\u001b[0m\u001b[0mtasks\u001b[0m\u001b[0;34m)\u001b[0m\u001b[0;34m\u001b[0m\u001b[0;34m\u001b[0m\u001b[0m\n\u001b[0m\u001b[1;32m    848\u001b[0m                 \u001b[0;32mreturn\u001b[0m \u001b[0;32mTrue\u001b[0m\u001b[0;34m\u001b[0m\u001b[0;34m\u001b[0m\u001b[0m\n\u001b[1;32m    849\u001b[0m \u001b[0;34m\u001b[0m\u001b[0m\n",
            "\u001b[0;32m/usr/local/lib/python3.6/dist-packages/joblib/parallel.py\u001b[0m in \u001b[0;36m_dispatch\u001b[0;34m(self, batch)\u001b[0m\n\u001b[1;32m    763\u001b[0m         \u001b[0;32mwith\u001b[0m \u001b[0mself\u001b[0m\u001b[0;34m.\u001b[0m\u001b[0m_lock\u001b[0m\u001b[0;34m:\u001b[0m\u001b[0;34m\u001b[0m\u001b[0;34m\u001b[0m\u001b[0m\n\u001b[1;32m    764\u001b[0m             \u001b[0mjob_idx\u001b[0m \u001b[0;34m=\u001b[0m \u001b[0mlen\u001b[0m\u001b[0;34m(\u001b[0m\u001b[0mself\u001b[0m\u001b[0;34m.\u001b[0m\u001b[0m_jobs\u001b[0m\u001b[0;34m)\u001b[0m\u001b[0;34m\u001b[0m\u001b[0;34m\u001b[0m\u001b[0m\n\u001b[0;32m--> 765\u001b[0;31m             \u001b[0mjob\u001b[0m \u001b[0;34m=\u001b[0m \u001b[0mself\u001b[0m\u001b[0;34m.\u001b[0m\u001b[0m_backend\u001b[0m\u001b[0;34m.\u001b[0m\u001b[0mapply_async\u001b[0m\u001b[0;34m(\u001b[0m\u001b[0mbatch\u001b[0m\u001b[0;34m,\u001b[0m \u001b[0mcallback\u001b[0m\u001b[0;34m=\u001b[0m\u001b[0mcb\u001b[0m\u001b[0;34m)\u001b[0m\u001b[0;34m\u001b[0m\u001b[0;34m\u001b[0m\u001b[0m\n\u001b[0m\u001b[1;32m    766\u001b[0m             \u001b[0;31m# A job can complete so quickly than its callback is\u001b[0m\u001b[0;34m\u001b[0m\u001b[0;34m\u001b[0m\u001b[0;34m\u001b[0m\u001b[0m\n\u001b[1;32m    767\u001b[0m             \u001b[0;31m# called before we get here, causing self._jobs to\u001b[0m\u001b[0;34m\u001b[0m\u001b[0;34m\u001b[0m\u001b[0;34m\u001b[0m\u001b[0m\n",
            "\u001b[0;32m/usr/local/lib/python3.6/dist-packages/joblib/_parallel_backends.py\u001b[0m in \u001b[0;36mapply_async\u001b[0;34m(self, func, callback)\u001b[0m\n\u001b[1;32m    204\u001b[0m     \u001b[0;32mdef\u001b[0m \u001b[0mapply_async\u001b[0m\u001b[0;34m(\u001b[0m\u001b[0mself\u001b[0m\u001b[0;34m,\u001b[0m \u001b[0mfunc\u001b[0m\u001b[0;34m,\u001b[0m \u001b[0mcallback\u001b[0m\u001b[0;34m=\u001b[0m\u001b[0;32mNone\u001b[0m\u001b[0;34m)\u001b[0m\u001b[0;34m:\u001b[0m\u001b[0;34m\u001b[0m\u001b[0;34m\u001b[0m\u001b[0m\n\u001b[1;32m    205\u001b[0m         \u001b[0;34m\"\"\"Schedule a func to be run\"\"\"\u001b[0m\u001b[0;34m\u001b[0m\u001b[0;34m\u001b[0m\u001b[0m\n\u001b[0;32m--> 206\u001b[0;31m         \u001b[0mresult\u001b[0m \u001b[0;34m=\u001b[0m \u001b[0mImmediateResult\u001b[0m\u001b[0;34m(\u001b[0m\u001b[0mfunc\u001b[0m\u001b[0;34m)\u001b[0m\u001b[0;34m\u001b[0m\u001b[0;34m\u001b[0m\u001b[0m\n\u001b[0m\u001b[1;32m    207\u001b[0m         \u001b[0;32mif\u001b[0m \u001b[0mcallback\u001b[0m\u001b[0;34m:\u001b[0m\u001b[0;34m\u001b[0m\u001b[0;34m\u001b[0m\u001b[0m\n\u001b[1;32m    208\u001b[0m             \u001b[0mcallback\u001b[0m\u001b[0;34m(\u001b[0m\u001b[0mresult\u001b[0m\u001b[0;34m)\u001b[0m\u001b[0;34m\u001b[0m\u001b[0;34m\u001b[0m\u001b[0m\n",
            "\u001b[0;32m/usr/local/lib/python3.6/dist-packages/joblib/_parallel_backends.py\u001b[0m in \u001b[0;36m__init__\u001b[0;34m(self, batch)\u001b[0m\n\u001b[1;32m    568\u001b[0m         \u001b[0;31m# Don't delay the application, to avoid keeping the input\u001b[0m\u001b[0;34m\u001b[0m\u001b[0;34m\u001b[0m\u001b[0;34m\u001b[0m\u001b[0m\n\u001b[1;32m    569\u001b[0m         \u001b[0;31m# arguments in memory\u001b[0m\u001b[0;34m\u001b[0m\u001b[0;34m\u001b[0m\u001b[0;34m\u001b[0m\u001b[0m\n\u001b[0;32m--> 570\u001b[0;31m         \u001b[0mself\u001b[0m\u001b[0;34m.\u001b[0m\u001b[0mresults\u001b[0m \u001b[0;34m=\u001b[0m \u001b[0mbatch\u001b[0m\u001b[0;34m(\u001b[0m\u001b[0;34m)\u001b[0m\u001b[0;34m\u001b[0m\u001b[0;34m\u001b[0m\u001b[0m\n\u001b[0m\u001b[1;32m    571\u001b[0m \u001b[0;34m\u001b[0m\u001b[0m\n\u001b[1;32m    572\u001b[0m     \u001b[0;32mdef\u001b[0m \u001b[0mget\u001b[0m\u001b[0;34m(\u001b[0m\u001b[0mself\u001b[0m\u001b[0;34m)\u001b[0m\u001b[0;34m:\u001b[0m\u001b[0;34m\u001b[0m\u001b[0;34m\u001b[0m\u001b[0m\n",
            "\u001b[0;32m/usr/local/lib/python3.6/dist-packages/joblib/parallel.py\u001b[0m in \u001b[0;36m__call__\u001b[0;34m(self)\u001b[0m\n\u001b[1;32m    251\u001b[0m         \u001b[0;32mwith\u001b[0m \u001b[0mparallel_backend\u001b[0m\u001b[0;34m(\u001b[0m\u001b[0mself\u001b[0m\u001b[0;34m.\u001b[0m\u001b[0m_backend\u001b[0m\u001b[0;34m,\u001b[0m \u001b[0mn_jobs\u001b[0m\u001b[0;34m=\u001b[0m\u001b[0mself\u001b[0m\u001b[0;34m.\u001b[0m\u001b[0m_n_jobs\u001b[0m\u001b[0;34m)\u001b[0m\u001b[0;34m:\u001b[0m\u001b[0;34m\u001b[0m\u001b[0;34m\u001b[0m\u001b[0m\n\u001b[1;32m    252\u001b[0m             return [func(*args, **kwargs)\n\u001b[0;32m--> 253\u001b[0;31m                     for func, args, kwargs in self.items]\n\u001b[0m\u001b[1;32m    254\u001b[0m \u001b[0;34m\u001b[0m\u001b[0m\n\u001b[1;32m    255\u001b[0m     \u001b[0;32mdef\u001b[0m \u001b[0m__reduce__\u001b[0m\u001b[0;34m(\u001b[0m\u001b[0mself\u001b[0m\u001b[0;34m)\u001b[0m\u001b[0;34m:\u001b[0m\u001b[0;34m\u001b[0m\u001b[0;34m\u001b[0m\u001b[0m\n",
            "\u001b[0;32m/usr/local/lib/python3.6/dist-packages/joblib/parallel.py\u001b[0m in \u001b[0;36m<listcomp>\u001b[0;34m(.0)\u001b[0m\n\u001b[1;32m    251\u001b[0m         \u001b[0;32mwith\u001b[0m \u001b[0mparallel_backend\u001b[0m\u001b[0;34m(\u001b[0m\u001b[0mself\u001b[0m\u001b[0;34m.\u001b[0m\u001b[0m_backend\u001b[0m\u001b[0;34m,\u001b[0m \u001b[0mn_jobs\u001b[0m\u001b[0;34m=\u001b[0m\u001b[0mself\u001b[0m\u001b[0;34m.\u001b[0m\u001b[0m_n_jobs\u001b[0m\u001b[0;34m)\u001b[0m\u001b[0;34m:\u001b[0m\u001b[0;34m\u001b[0m\u001b[0;34m\u001b[0m\u001b[0m\n\u001b[1;32m    252\u001b[0m             return [func(*args, **kwargs)\n\u001b[0;32m--> 253\u001b[0;31m                     for func, args, kwargs in self.items]\n\u001b[0m\u001b[1;32m    254\u001b[0m \u001b[0;34m\u001b[0m\u001b[0m\n\u001b[1;32m    255\u001b[0m     \u001b[0;32mdef\u001b[0m \u001b[0m__reduce__\u001b[0m\u001b[0;34m(\u001b[0m\u001b[0mself\u001b[0m\u001b[0;34m)\u001b[0m\u001b[0;34m:\u001b[0m\u001b[0;34m\u001b[0m\u001b[0;34m\u001b[0m\u001b[0m\n",
            "\u001b[0;32m/usr/local/lib/python3.6/dist-packages/sklearn/model_selection/_validation.py\u001b[0m in \u001b[0;36m_fit_and_predict\u001b[0;34m(estimator, X, y, train, test, verbose, fit_params, method)\u001b[0m\n\u001b[1;32m    839\u001b[0m         \u001b[0mestimator\u001b[0m\u001b[0;34m.\u001b[0m\u001b[0mfit\u001b[0m\u001b[0;34m(\u001b[0m\u001b[0mX_train\u001b[0m\u001b[0;34m,\u001b[0m \u001b[0;34m**\u001b[0m\u001b[0mfit_params\u001b[0m\u001b[0;34m)\u001b[0m\u001b[0;34m\u001b[0m\u001b[0;34m\u001b[0m\u001b[0m\n\u001b[1;32m    840\u001b[0m     \u001b[0;32melse\u001b[0m\u001b[0;34m:\u001b[0m\u001b[0;34m\u001b[0m\u001b[0;34m\u001b[0m\u001b[0m\n\u001b[0;32m--> 841\u001b[0;31m         \u001b[0mestimator\u001b[0m\u001b[0;34m.\u001b[0m\u001b[0mfit\u001b[0m\u001b[0;34m(\u001b[0m\u001b[0mX_train\u001b[0m\u001b[0;34m,\u001b[0m \u001b[0my_train\u001b[0m\u001b[0;34m,\u001b[0m \u001b[0;34m**\u001b[0m\u001b[0mfit_params\u001b[0m\u001b[0;34m)\u001b[0m\u001b[0;34m\u001b[0m\u001b[0;34m\u001b[0m\u001b[0m\n\u001b[0m\u001b[1;32m    842\u001b[0m     \u001b[0mfunc\u001b[0m \u001b[0;34m=\u001b[0m \u001b[0mgetattr\u001b[0m\u001b[0;34m(\u001b[0m\u001b[0mestimator\u001b[0m\u001b[0;34m,\u001b[0m \u001b[0mmethod\u001b[0m\u001b[0;34m)\u001b[0m\u001b[0;34m\u001b[0m\u001b[0;34m\u001b[0m\u001b[0m\n\u001b[1;32m    843\u001b[0m     \u001b[0mpredictions\u001b[0m \u001b[0;34m=\u001b[0m \u001b[0mfunc\u001b[0m\u001b[0;34m(\u001b[0m\u001b[0mX_test\u001b[0m\u001b[0;34m)\u001b[0m\u001b[0;34m\u001b[0m\u001b[0;34m\u001b[0m\u001b[0m\n",
            "\u001b[0;32m/usr/local/lib/python3.6/dist-packages/xgboost/sklearn.py\u001b[0m in \u001b[0;36mfit\u001b[0;34m(self, X, y, sample_weight, eval_set, eval_metric, early_stopping_rounds, verbose, xgb_model, sample_weight_eval_set, callbacks)\u001b[0m\n\u001b[1;32m    730\u001b[0m                               \u001b[0mevals_result\u001b[0m\u001b[0;34m=\u001b[0m\u001b[0mevals_result\u001b[0m\u001b[0;34m,\u001b[0m \u001b[0mobj\u001b[0m\u001b[0;34m=\u001b[0m\u001b[0mobj\u001b[0m\u001b[0;34m,\u001b[0m \u001b[0mfeval\u001b[0m\u001b[0;34m=\u001b[0m\u001b[0mfeval\u001b[0m\u001b[0;34m,\u001b[0m\u001b[0;34m\u001b[0m\u001b[0;34m\u001b[0m\u001b[0m\n\u001b[1;32m    731\u001b[0m                               \u001b[0mverbose_eval\u001b[0m\u001b[0;34m=\u001b[0m\u001b[0mverbose\u001b[0m\u001b[0;34m,\u001b[0m \u001b[0mxgb_model\u001b[0m\u001b[0;34m=\u001b[0m\u001b[0mxgb_model\u001b[0m\u001b[0;34m,\u001b[0m\u001b[0;34m\u001b[0m\u001b[0;34m\u001b[0m\u001b[0m\n\u001b[0;32m--> 732\u001b[0;31m                               callbacks=callbacks)\n\u001b[0m\u001b[1;32m    733\u001b[0m \u001b[0;34m\u001b[0m\u001b[0m\n\u001b[1;32m    734\u001b[0m         \u001b[0mself\u001b[0m\u001b[0;34m.\u001b[0m\u001b[0mobjective\u001b[0m \u001b[0;34m=\u001b[0m \u001b[0mxgb_options\u001b[0m\u001b[0;34m[\u001b[0m\u001b[0;34m\"objective\"\u001b[0m\u001b[0;34m]\u001b[0m\u001b[0;34m\u001b[0m\u001b[0;34m\u001b[0m\u001b[0m\n",
            "\u001b[0;32m/usr/local/lib/python3.6/dist-packages/xgboost/training.py\u001b[0m in \u001b[0;36mtrain\u001b[0;34m(params, dtrain, num_boost_round, evals, obj, feval, maximize, early_stopping_rounds, evals_result, verbose_eval, xgb_model, callbacks, learning_rates)\u001b[0m\n\u001b[1;32m    214\u001b[0m                            \u001b[0mevals\u001b[0m\u001b[0;34m=\u001b[0m\u001b[0mevals\u001b[0m\u001b[0;34m,\u001b[0m\u001b[0;34m\u001b[0m\u001b[0;34m\u001b[0m\u001b[0m\n\u001b[1;32m    215\u001b[0m                            \u001b[0mobj\u001b[0m\u001b[0;34m=\u001b[0m\u001b[0mobj\u001b[0m\u001b[0;34m,\u001b[0m \u001b[0mfeval\u001b[0m\u001b[0;34m=\u001b[0m\u001b[0mfeval\u001b[0m\u001b[0;34m,\u001b[0m\u001b[0;34m\u001b[0m\u001b[0;34m\u001b[0m\u001b[0m\n\u001b[0;32m--> 216\u001b[0;31m                            xgb_model=xgb_model, callbacks=callbacks)\n\u001b[0m\u001b[1;32m    217\u001b[0m \u001b[0;34m\u001b[0m\u001b[0m\n\u001b[1;32m    218\u001b[0m \u001b[0;34m\u001b[0m\u001b[0m\n",
            "\u001b[0;32m/usr/local/lib/python3.6/dist-packages/xgboost/training.py\u001b[0m in \u001b[0;36m_train_internal\u001b[0;34m(params, dtrain, num_boost_round, evals, obj, feval, xgb_model, callbacks)\u001b[0m\n\u001b[1;32m     72\u001b[0m         \u001b[0;31m# Skip the first update if it is a recovery step.\u001b[0m\u001b[0;34m\u001b[0m\u001b[0;34m\u001b[0m\u001b[0;34m\u001b[0m\u001b[0m\n\u001b[1;32m     73\u001b[0m         \u001b[0;32mif\u001b[0m \u001b[0mversion\u001b[0m \u001b[0;34m%\u001b[0m \u001b[0;36m2\u001b[0m \u001b[0;34m==\u001b[0m \u001b[0;36m0\u001b[0m\u001b[0;34m:\u001b[0m\u001b[0;34m\u001b[0m\u001b[0;34m\u001b[0m\u001b[0m\n\u001b[0;32m---> 74\u001b[0;31m             \u001b[0mbst\u001b[0m\u001b[0;34m.\u001b[0m\u001b[0mupdate\u001b[0m\u001b[0;34m(\u001b[0m\u001b[0mdtrain\u001b[0m\u001b[0;34m,\u001b[0m \u001b[0mi\u001b[0m\u001b[0;34m,\u001b[0m \u001b[0mobj\u001b[0m\u001b[0;34m)\u001b[0m\u001b[0;34m\u001b[0m\u001b[0;34m\u001b[0m\u001b[0m\n\u001b[0m\u001b[1;32m     75\u001b[0m             \u001b[0mbst\u001b[0m\u001b[0;34m.\u001b[0m\u001b[0msave_rabit_checkpoint\u001b[0m\u001b[0;34m(\u001b[0m\u001b[0;34m)\u001b[0m\u001b[0;34m\u001b[0m\u001b[0;34m\u001b[0m\u001b[0m\n\u001b[1;32m     76\u001b[0m             \u001b[0mversion\u001b[0m \u001b[0;34m+=\u001b[0m \u001b[0;36m1\u001b[0m\u001b[0;34m\u001b[0m\u001b[0;34m\u001b[0m\u001b[0m\n",
            "\u001b[0;32m/usr/local/lib/python3.6/dist-packages/xgboost/core.py\u001b[0m in \u001b[0;36mupdate\u001b[0;34m(self, dtrain, iteration, fobj)\u001b[0m\n\u001b[1;32m   1107\u001b[0m         \u001b[0;32mif\u001b[0m \u001b[0mfobj\u001b[0m \u001b[0;32mis\u001b[0m \u001b[0;32mNone\u001b[0m\u001b[0;34m:\u001b[0m\u001b[0;34m\u001b[0m\u001b[0;34m\u001b[0m\u001b[0m\n\u001b[1;32m   1108\u001b[0m             _check_call(_LIB.XGBoosterUpdateOneIter(self.handle, ctypes.c_int(iteration),\n\u001b[0;32m-> 1109\u001b[0;31m                                                     dtrain.handle))\n\u001b[0m\u001b[1;32m   1110\u001b[0m         \u001b[0;32melse\u001b[0m\u001b[0;34m:\u001b[0m\u001b[0;34m\u001b[0m\u001b[0;34m\u001b[0m\u001b[0m\n\u001b[1;32m   1111\u001b[0m             \u001b[0mpred\u001b[0m \u001b[0;34m=\u001b[0m \u001b[0mself\u001b[0m\u001b[0;34m.\u001b[0m\u001b[0mpredict\u001b[0m\u001b[0;34m(\u001b[0m\u001b[0mdtrain\u001b[0m\u001b[0;34m)\u001b[0m\u001b[0;34m\u001b[0m\u001b[0;34m\u001b[0m\u001b[0m\n",
            "\u001b[0;31mKeyboardInterrupt\u001b[0m: "
          ]
        }
      ]
    },
    {
      "cell_type": "code",
      "metadata": {
        "id": "TPpb3vtnBNhD",
        "colab_type": "code",
        "colab": {}
      },
      "source": [
        ""
      ],
      "execution_count": null,
      "outputs": []
    },
    {
      "cell_type": "markdown",
      "metadata": {
        "id": "t4rrk-a2Vy-z",
        "colab_type": "text"
      },
      "source": [
        "# Parameter Tunig"
      ]
    },
    {
      "cell_type": "code",
      "metadata": {
        "id": "bGPTYQ6BV9xO",
        "colab_type": "code",
        "colab": {}
      },
      "source": [
        "predictors = [x for x in train_df.columns if x not in [target, IDcol]]\n",
        "\n",
        "param_test1 = {\n",
        "#  'max_depth':range(3,10,2),\n",
        "#  'min_child_weight':range(1,6,2)\n",
        "  'scale_pos_weight': [(5+i*0.1) for i in range(1,20)]\n",
        "}\n",
        "\n",
        "ptxgboost = XGBClassifier( learning_rate =0.1, n_estimators=140, max_depth=6,\n",
        " min_child_weight=5, gamma=0, subsample=0.75, colsample_bytree=0.8, reg_alpha=0,\n",
        " objective= 'binary:logistic', nthread=4, scale_pos_weight=1, seed=27)\n",
        "\n",
        "gsearch1 = GridSearchCV(estimator = ptxgboost , param_grid = param_test1, scoring='f1_macro',n_jobs=4,iid=False, cv=10)\n",
        "gsearch1.fit(train_df[predictors],train_df[target])\n",
        "gsearch1.cv_results_, gsearch1.best_params_, gsearch1.best_score_"
      ],
      "execution_count": null,
      "outputs": []
    },
    {
      "cell_type": "code",
      "metadata": {
        "id": "Yw8hUZL4W0fM",
        "colab_type": "code",
        "colab": {}
      },
      "source": [
        "[(0.6+i*0.01) for i in range(1,13)]"
      ],
      "execution_count": null,
      "outputs": []
    },
    {
      "cell_type": "code",
      "metadata": {
        "id": "zXkxDk_kKhIO",
        "colab_type": "code",
        "colab": {}
      },
      "source": [
        "####################################################"
      ],
      "execution_count": null,
      "outputs": []
    },
    {
      "cell_type": "markdown",
      "metadata": {
        "id": "Z-RLYl76U-Yt",
        "colab_type": "text"
      },
      "source": [
        "# Traing Submition"
      ]
    },
    {
      "cell_type": "code",
      "metadata": {
        "scrolled": true,
        "id": "V3hIe0PYKhJh",
        "colab_type": "code",
        "colab": {
          "base_uri": "https://localhost:8080/",
          "height": 50
        },
        "outputId": "38ee5714-a5a7-4b4f-a0ba-0c387446af5d"
      },
      "source": [
        "%%time\n",
        "model_sub = XGBClassifier(\n",
        " learning_rate =0.01,\n",
        " n_estimators=1000,\n",
        " max_depth=6,\n",
        " min_child_weight=5,\n",
        " gamma=0,\n",
        " subsample=0.75,\n",
        " colsample_bytree=0.8,\n",
        " reg_alpha=0,\n",
        " objective= 'binary:logistic',\n",
        " nthread=4,\n",
        " scale_pos_weight=0.65,\n",
        " seed=27)\n",
        "\n",
        "model_sub.fit(train,y)"
      ],
      "execution_count": null,
      "outputs": [
        {
          "output_type": "stream",
          "text": [
            "CPU times: user 33.1 s, sys: 901 ms, total: 34 s\n",
            "Wall time: 18.6 s\n"
          ],
          "name": "stdout"
        }
      ]
    },
    {
      "cell_type": "code",
      "metadata": {
        "scrolled": true,
        "id": "_R7hc1SkKhJ4",
        "colab_type": "code",
        "colab": {
          "base_uri": "https://localhost:8080/",
          "height": 34
        },
        "outputId": "f7c2fa9e-ed63-4b4a-888c-b231c7019a95"
      },
      "source": [
        "test_pred = model_sub.predict(df_test)\n",
        "test_pred"
      ],
      "execution_count": null,
      "outputs": [
        {
          "output_type": "execute_result",
          "data": {
            "text/plain": [
              "array([1, 1, 1, ..., 1, 1, 1], dtype=uint8)"
            ]
          },
          "metadata": {
            "tags": []
          },
          "execution_count": 429
        }
      ]
    },
    {
      "cell_type": "code",
      "metadata": {
        "id": "vX7fNrcwKhKO",
        "colab_type": "code",
        "colab": {
          "base_uri": "https://localhost:8080/",
          "height": 431
        },
        "outputId": "8ac6715a-03e3-4266-c5a6-1f75450784a2"
      },
      "source": [
        "submission_df = pd.read_csv(\"/content/drive/My Drive/Colab Notebooks/Data/sample_submission.csv\", \n",
        "                            index_col=\"tripid\")\n",
        "submission_df"
      ],
      "execution_count": null,
      "outputs": [
        {
          "output_type": "execute_result",
          "data": {
            "text/html": [
              "<div>\n",
              "<style scoped>\n",
              "    .dataframe tbody tr th:only-of-type {\n",
              "        vertical-align: middle;\n",
              "    }\n",
              "\n",
              "    .dataframe tbody tr th {\n",
              "        vertical-align: top;\n",
              "    }\n",
              "\n",
              "    .dataframe thead th {\n",
              "        text-align: right;\n",
              "    }\n",
              "</style>\n",
              "<table border=\"1\" class=\"dataframe\">\n",
              "  <thead>\n",
              "    <tr style=\"text-align: right;\">\n",
              "      <th></th>\n",
              "      <th>prediction</th>\n",
              "    </tr>\n",
              "    <tr>\n",
              "      <th>tripid</th>\n",
              "      <th></th>\n",
              "    </tr>\n",
              "  </thead>\n",
              "  <tbody>\n",
              "    <tr>\n",
              "      <th>213284604</th>\n",
              "      <td>1</td>\n",
              "    </tr>\n",
              "    <tr>\n",
              "      <th>213286352</th>\n",
              "      <td>0</td>\n",
              "    </tr>\n",
              "    <tr>\n",
              "      <th>213293973</th>\n",
              "      <td>0</td>\n",
              "    </tr>\n",
              "    <tr>\n",
              "      <th>213294622</th>\n",
              "      <td>1</td>\n",
              "    </tr>\n",
              "    <tr>\n",
              "      <th>213298687</th>\n",
              "      <td>1</td>\n",
              "    </tr>\n",
              "    <tr>\n",
              "      <th>...</th>\n",
              "      <td>...</td>\n",
              "    </tr>\n",
              "    <tr>\n",
              "      <th>222856243</th>\n",
              "      <td>1</td>\n",
              "    </tr>\n",
              "    <tr>\n",
              "      <th>222857785</th>\n",
              "      <td>0</td>\n",
              "    </tr>\n",
              "    <tr>\n",
              "      <th>222858416</th>\n",
              "      <td>0</td>\n",
              "    </tr>\n",
              "    <tr>\n",
              "      <th>222858691</th>\n",
              "      <td>0</td>\n",
              "    </tr>\n",
              "    <tr>\n",
              "      <th>222860703</th>\n",
              "      <td>0</td>\n",
              "    </tr>\n",
              "  </tbody>\n",
              "</table>\n",
              "<p>8576 rows × 1 columns</p>\n",
              "</div>"
            ],
            "text/plain": [
              "           prediction\n",
              "tripid               \n",
              "213284604           1\n",
              "213286352           0\n",
              "213293973           0\n",
              "213294622           1\n",
              "213298687           1\n",
              "...               ...\n",
              "222856243           1\n",
              "222857785           0\n",
              "222858416           0\n",
              "222858691           0\n",
              "222860703           0\n",
              "\n",
              "[8576 rows x 1 columns]"
            ]
          },
          "metadata": {
            "tags": []
          },
          "execution_count": 430
        }
      ]
    },
    {
      "cell_type": "code",
      "metadata": {
        "id": "J6eiSTtMKhKi",
        "colab_type": "code",
        "colab": {}
      },
      "source": [
        "submission_df['prediction'] = test_pred\n",
        "\n",
        "submission_df.to_csv('my_submission_daf.csv', index=True)"
      ],
      "execution_count": null,
      "outputs": []
    },
    {
      "cell_type": "code",
      "metadata": {
        "id": "j31BPvXPKhK5",
        "colab_type": "code",
        "colab": {
          "base_uri": "https://localhost:8080/",
          "height": 431
        },
        "outputId": "b9b62eea-caec-46f1-e6ea-37a01c4fa7cb"
      },
      "source": [
        "submission_df[submission_df['prediction']==0 ]"
      ],
      "execution_count": null,
      "outputs": [
        {
          "output_type": "execute_result",
          "data": {
            "text/html": [
              "<div>\n",
              "<style scoped>\n",
              "    .dataframe tbody tr th:only-of-type {\n",
              "        vertical-align: middle;\n",
              "    }\n",
              "\n",
              "    .dataframe tbody tr th {\n",
              "        vertical-align: top;\n",
              "    }\n",
              "\n",
              "    .dataframe thead th {\n",
              "        text-align: right;\n",
              "    }\n",
              "</style>\n",
              "<table border=\"1\" class=\"dataframe\">\n",
              "  <thead>\n",
              "    <tr style=\"text-align: right;\">\n",
              "      <th></th>\n",
              "      <th>prediction</th>\n",
              "    </tr>\n",
              "    <tr>\n",
              "      <th>tripid</th>\n",
              "      <th></th>\n",
              "    </tr>\n",
              "  </thead>\n",
              "  <tbody>\n",
              "    <tr>\n",
              "      <th>213299545</th>\n",
              "      <td>0</td>\n",
              "    </tr>\n",
              "    <tr>\n",
              "      <th>213310068</th>\n",
              "      <td>0</td>\n",
              "    </tr>\n",
              "    <tr>\n",
              "      <th>213325248</th>\n",
              "      <td>0</td>\n",
              "    </tr>\n",
              "    <tr>\n",
              "      <th>213326731</th>\n",
              "      <td>0</td>\n",
              "    </tr>\n",
              "    <tr>\n",
              "      <th>213328890</th>\n",
              "      <td>0</td>\n",
              "    </tr>\n",
              "    <tr>\n",
              "      <th>...</th>\n",
              "      <td>...</td>\n",
              "    </tr>\n",
              "    <tr>\n",
              "      <th>222716573</th>\n",
              "      <td>0</td>\n",
              "    </tr>\n",
              "    <tr>\n",
              "      <th>222717033</th>\n",
              "      <td>0</td>\n",
              "    </tr>\n",
              "    <tr>\n",
              "      <th>222735934</th>\n",
              "      <td>0</td>\n",
              "    </tr>\n",
              "    <tr>\n",
              "      <th>222816520</th>\n",
              "      <td>0</td>\n",
              "    </tr>\n",
              "    <tr>\n",
              "      <th>222831987</th>\n",
              "      <td>0</td>\n",
              "    </tr>\n",
              "  </tbody>\n",
              "</table>\n",
              "<p>464 rows × 1 columns</p>\n",
              "</div>"
            ],
            "text/plain": [
              "           prediction\n",
              "tripid               \n",
              "213299545           0\n",
              "213310068           0\n",
              "213325248           0\n",
              "213326731           0\n",
              "213328890           0\n",
              "...               ...\n",
              "222716573           0\n",
              "222717033           0\n",
              "222735934           0\n",
              "222816520           0\n",
              "222831987           0\n",
              "\n",
              "[464 rows x 1 columns]"
            ]
          },
          "metadata": {
            "tags": []
          },
          "execution_count": 432
        }
      ]
    },
    {
      "cell_type": "code",
      "metadata": {
        "id": "jzv0vvOMKhLN",
        "colab_type": "code",
        "colab": {}
      },
      "source": [
        ""
      ],
      "execution_count": null,
      "outputs": []
    },
    {
      "cell_type": "code",
      "metadata": {
        "id": "uuK_RiqkKhLV",
        "colab_type": "code",
        "colab": {}
      },
      "source": [
        ""
      ],
      "execution_count": null,
      "outputs": []
    }
  ],
  "metadata": {
    "colab": {
      "name": "mlp.ipynb",
      "provenance": [],
      "collapsed_sections": []
    },
    "kernelspec": {
      "display_name": "Python 3",
      "language": "python",
      "name": "python3"
    },
    "language_info": {
      "codemirror_mode": {
        "name": "ipython",
        "version": 3
      },
      "file_extension": ".py",
      "mimetype": "text/x-python",
      "name": "python",
      "nbconvert_exporter": "python",
      "pygments_lexer": "ipython3",
      "version": "3.7.6"
    }
  },
  "nbformat": 4,
  "nbformat_minor": 0
}